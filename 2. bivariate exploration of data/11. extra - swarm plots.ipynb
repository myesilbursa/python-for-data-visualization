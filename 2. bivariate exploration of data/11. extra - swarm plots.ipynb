{
 "cells": [
  {
   "cell_type": "markdown",
   "metadata": {},
   "source": [
    "## Swarm Plots\n",
    "\n",
    "In this lesson, you saw many ways of depicting the relationship between a numeric variable and a categorical variable. Violin plots depicted distributions as density curves, while box plots took a more summary approach, plotting the quantiles as boxes with whiskers. Another alternative to these plots is the **swarm plot**. Similar to a scatterplot, each data point is plotted with position according to its value on the two variables being plotted. Instead of randomly jittering points as in a normal scatterplot, points are placed as close to their actual value as possible without allowing any overlap. A swarm plot can be created in seaborn using the [`swarmplot`](https://seaborn.pydata.org/generated/seaborn.swarmplot.html) function, similar to how you would a call `violinplot` or `boxplot`."
   ]
  },
  {
   "cell_type": "code",
   "execution_count": null,
   "metadata": {},
   "outputs": [],
   "source": [
    "plt.figure(figsize=[12, 5])\n",
    "base_color = sb.color_palette()[0]\n",
    "\n",
    "# left plot: violin plot\n",
    "plt.subplot(1, 3, 1)\n",
    "ax1 = sb.violinplot(data=df, x='cat_var', y='num_var', color=base_color)\n",
    "\n",
    "# center plot: box plot\n",
    "plt.subplot(1, 3, 2)\n",
    "sb.boxplot(data=df, x='cat_var', y='num_var', color=base_color)\n",
    "plt.ylim(ax1.get_ylim())  # set y-axis limits to be same as left plot\n",
    "\n",
    "# right plot: swarm plot\n",
    "plt.subplot(1, 3, 3)\n",
    "sb.swarmplot(data=df, x='cat_var', y='num_var', color=base_color)\n",
    "plt.ylim(ax1.get_ylim())  # set y-axis limits to be same as left plot\n"
   ]
  },
  {
   "cell_type": "markdown",
   "metadata": {},
   "source": [
    "<img src=\"assets/swarmplot.png\" width=1000px>\n",
    "\n",
    "Looking at the plots side by side, you can see relative pros and cons of the swarm plot. Unlike the violin plot and box plot, every point is plotted, so we can now compare the frequency of each group in the same plot. While there is some distortion due to location jitter, we also have a more concrete picture of where the points actually lie, removing the long tails that can be present in violin plots.\n",
    "\n",
    "However, it is only reasonable to use a swarm plot if we have a small or moderate amount of data. If we have too many points, then the restrictions against overlap will cause too much distortion or require a lot of space to plot the data comfortably. In addition, having too many points can actually be a distraction, making it harder to see the key signals in the visualization. Use your findings from univariate visualizations to inform which bivariate visualizations will be best, or simply experiment with different plot types to see what is most informative."
   ]
  }
 ],
 "metadata": {
  "interpreter": {
   "hash": "6774c6a91b27222b28f0eacad095cd7a3b945a37b2c1d9ccdc3307e935b7aa2f"
  },
  "kernelspec": {
   "display_name": "Python 3.8.12 ('base')",
   "language": "python",
   "name": "python3"
  },
  "language_info": {
   "name": "python",
   "version": "3.8.12"
  },
  "orig_nbformat": 4
 },
 "nbformat": 4,
 "nbformat_minor": 2
}
