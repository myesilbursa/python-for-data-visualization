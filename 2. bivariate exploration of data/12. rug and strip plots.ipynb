{
 "cells": [
  {
   "cell_type": "markdown",
   "metadata": {},
   "source": [
    "## Rug and Strip Plots\n",
    "\n",
    "You might encounter, or be interested in, marginal distributions that are plotted alongside bivariate plots such as scatterplots. A marginal distribution is simply the univariate distribution of a variable, ignoring the values of any other variable. For quantitative data, histograms or density curves are fine choices for marginal plot, but you might also see the **rug plot** employed. In a rug plot, all of the data points are plotted on a single axis, one tick mark or line for each one. Compared to a marginal histogram, the rug plot suffers somewhat in terms of readability of the distribution, but it is more compact in its representation of the data.\n",
    "\n",
    "Seaborn's [JointGrid](https://seaborn.pydata.org/generated/seaborn.JointGrid.html) class enables this plotting of bivariate relationship with marginal univariate plots for numeric data. The `plot_joint` method specifies a plotting function for the main, joint plot for the two variables, while the `plot_marginals` method specifies the plotting function for the two marginal plots. Here, we make use of seaborn's [`rugplot`](https://seaborn.pydata.org/generated/seaborn.rugplot.html) function."
   ]
  },
  {
   "cell_type": "code",
   "execution_count": null,
   "metadata": {},
   "outputs": [],
   "source": [
    "g = sb.JointGrid(data=df, x='num_var1', y='num_var2')\n",
    "g.plot_joint(plt.scatter)\n",
    "g.plot_marginals(sb.rugplot, height=0.25)"
   ]
  },
  {
   "cell_type": "markdown",
   "metadata": {},
   "source": [
    "The \"height\" parameter specifies the rug ticks to be 0.25 the height of the marginal axis size.\n",
    "\n",
    "<img src=\"assets/rugplot.png\" width=500px>\n",
    "\n",
    "The rug plot is fine here since the data isn't particularly numerous or overly dense. In other circumstances, a histogram or density curve will be more appropriate. You probably won't consider the rug plot as a primary plot choice, but it can be a good supporter plot in certain circumstances.\n",
    "\n",
    "Another supporting plot type similar to the rug plot is the **strip plot**. It's like a swarm plot (see the previous page) but without any dodging or jittering to keep points separate or off the categorical line. You can also think of it as a rug plot faceted by categorical levels. You can use seaborn's [`swarmplot`](https://seaborn.pydata.org/generated/seaborn.swarmplot.html) function to add a swarm plot to any other plot. The `inner = \"stick\"` and `inner = \"point\"` options can also be used with the `violinplot` function to include a swarm plot inside of the violin areas, instead of a box plot.\n",
    "\n"
   ]
  },
  {
   "cell_type": "code",
   "execution_count": null,
   "metadata": {},
   "outputs": [],
   "source": [
    "plt.figure(figsize=[10, 5])\n",
    "base_color = sb.color_palette()[0]\n",
    "\n",
    "# left plot: strip plot\n",
    "plt.subplot(1, 2, 1)\n",
    "ax1 = sb.stripplot(data=df, x='num_var', y='cat_var',\n",
    "                   color=base_color)\n",
    "\n",
    "# right plot: violin plot with inner strip plot as lines\n",
    "plt.subplot(1, 2, 2)\n",
    "sb.violinplot(data=df, x='num_var', y='cat_var', color=base_color,\n",
    "              inner='stick')\n"
   ]
  },
  {
   "cell_type": "markdown",
   "metadata": {},
   "source": [
    "<img src=\"assets/stripplot.png\" width=1000px>"
   ]
  }
 ],
 "metadata": {
  "interpreter": {
   "hash": "6774c6a91b27222b28f0eacad095cd7a3b945a37b2c1d9ccdc3307e935b7aa2f"
  },
  "kernelspec": {
   "display_name": "Python 3.8.12 ('base')",
   "language": "python",
   "name": "python3"
  },
  "language_info": {
   "name": "python",
   "version": "3.8.12"
  },
  "orig_nbformat": 4
 },
 "nbformat": 4,
 "nbformat_minor": 2
}
