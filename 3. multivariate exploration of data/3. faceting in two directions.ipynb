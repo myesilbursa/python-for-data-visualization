{
 "cells": [
  {
   "cell_type": "markdown",
   "metadata": {},
   "source": [
    "## Faceting for Multivariate Data\n",
    "\n",
    "In the previous lesson, you saw how **FacetGrid** could be used to subset your dataset across levels of a categorical variable, and then create one plot for each subset. Where the faceted plots demonstrated were univariate before, you can actually use any plot type, allowing you to facet bivariate plots to create a multivariate visualization."
   ]
  },
  {
   "cell_type": "code",
   "execution_count": null,
   "metadata": {},
   "outputs": [],
   "source": [
    "g = sb.FacetGrid(data=df, col='cat_var1', size=4)\n",
    "g.map(sb.boxplot, 'cat_var2', 'num_var2')"
   ]
  },
  {
   "cell_type": "markdown",
   "metadata": {},
   "source": [
    "<img src=\"assets/faceting.png\" width=800px>\n",
    "\n",
    "The faceted box plot suggests a slight interaction between the two categorical variables, where, in level B of \"cat_var1\", the level of \"cat_var2\" seems to be have a larger effect on the value of \"num_var2\", compared to the trend within \"cat_var1\" level A.\n",
    "\n",
    "**FacetGrid** also allows for faceting a variable not just by columns, but also by rows. We can set one categorical variable on each of the two facet axes for one additional method of depicting multivariate trends."
   ]
  },
  {
   "cell_type": "code",
   "execution_count": null,
   "metadata": {},
   "outputs": [],
   "source": [
    "g = sb.FacetGrid(data=df, col='cat_var2', row='cat_var1', size=2.5,\n",
    "                 margin_titles=True)\n",
    "g.map(plt.scatter, 'num_var1', 'num_var2')\n"
   ]
  },
  {
   "cell_type": "markdown",
   "metadata": {},
   "source": [
    "Setting `margin_titles = True` means that instead of each facet being labeled with the combination of row and column variable, labels are placed separately on the top and right margins of the facet grid. This is a boon, since the default plot titles are usually too long.\n",
    "\n",
    "<img src=\"assets/faceting2.png\" width=800px>"
   ]
  }
 ],
 "metadata": {
  "interpreter": {
   "hash": "6774c6a91b27222b28f0eacad095cd7a3b945a37b2c1d9ccdc3307e935b7aa2f"
  },
  "kernelspec": {
   "display_name": "Python 3.8.12 ('base')",
   "language": "python",
   "name": "python3"
  },
  "language_info": {
   "name": "python",
   "version": "3.8.12"
  },
  "orig_nbformat": 4
 },
 "nbformat": 4,
 "nbformat_minor": 2
}
