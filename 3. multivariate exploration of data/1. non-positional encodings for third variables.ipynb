{
 "cells": [
  {
   "cell_type": "markdown",
   "metadata": {},
   "source": [
    "## Non-Positional Encodings for Third Variables\n",
    "\n",
    "There are four major cases to consider when we want to plot three variables together:\n",
    "\n",
    "- three numeric variables\n",
    "- two numeric variables and one categorical variable\n",
    "- one numeric variable and two categorical variables\n",
    "- three categorical variables\n",
    "\n",
    "If we have at least two numeric variables, as in the first two cases, one common method for depicting the data is by using a scatterplot to encode two of the numeric variables, then using a non-positional encoding on the points to convey the value on the third variable, whether numeric or categorical. (You will see additional techniques later in the lesson that can also be applied to the other two cases, i.e. where we have at least two categorical variables.)\n",
    "\n",
    "Three main non-positional encodings stand out: shape, size, and color. For Matplotlib and Seaborn, color is the easiest of these three encodings to apply for a third variable. Color can be used to encode both qualitative and quantitative data, with different types of color palettes used for different use cases. Because of how broadly color can be used, a dedicated discussion of color and its use in Matplotlib and Seaborn will be deferred to the next page in the lesson.\n",
    "\n",
    "### Encoding via Shape\n",
    "\n",
    "Shape is a good encoding for categorical variables, using one shape for each level of the categorical variable. Unfortunately, there is no built-in way to automatically assign different shapes in a single call of the `scatter` or `regplot` function. Instead, we need to write a loop to call our plotting function multiple times, isolating data points by categorical level and setting a different \"marker\" argument value for each one."
   ]
  },
  {
   "cell_type": "code",
   "execution_count": null,
   "metadata": {},
   "outputs": [],
   "source": [
    "cat_markers = [['A', 'o'],\n",
    "               ['B', 's']]\n",
    "\n",
    "for cat, marker in cat_markers:\n",
    "    df_cat = df[df['cat_var1'] == cat]\n",
    "    plt.scatter(data = df_cat, x = 'num_var1', y = 'num_var2', marker = marker)\n",
    "plt.legend(['A','B'])"
   ]
  },
  {
   "cell_type": "markdown",
   "metadata": {},
   "source": [
    "The 'o' string specifies circular markers for members of category 'A', while the 's' string specifies square markers for members of category 'B'. The [`legend`](https://matplotlib.org/stable/api/_as_gen/matplotlib.pyplot.legend.html) function adds a legend to the plot, with one marker for every `scatter` call made. The function argument sets the labels for those points.\n",
    "\n",
    "(Documentation: [matplotlib built-in markers](https://matplotlib.org/stable/api/markers_api.html), [marker reference example](https://matplotlib.org/2.0.2/examples/lines_bars_and_markers/marker_reference.html))\n",
    "\n",
    "<img src=\"assets/encodings.png\" width=500px>\n",
    "\n",
    "From the positional encodings in the plot, you can see that there is a modest positive relationship between the two numeric variables. Adding the categorical variable via shape encoding, we can see that points of category 'A' tend to be smaller than those of category 'B' in terms of the numeric x-variable (\"num_var1\"). Neither category seems to have an advantage in terms of variability or value for the numeric y-variable (\"num_var2\").\n",
    "\n",
    "Note that the two categories have automatically been double-encoded with different colors, in addition to the explicitly specified markers. If we wanted the points to have the same color as well, we could do that through the \"c\" parameter in `scatter` or \"color\" in `regplot`. A small example of where this is useful will be seen in the next section.\n",
    "\n",
    "### Encoding via Size\n",
    "\n",
    "Point size is a good encoding for numeric variables. Usually, we want the numeric values to be proportional to the area of the point markers; this is the default functionality of the \"s\" parameter in `scatter`. (You need to refer to \"s\" through a dictionary assigned to the \"scatter_kws\" parameter when working with `regplot`.)"
   ]
  },
  {
   "cell_type": "code",
   "execution_count": null,
   "metadata": {},
   "outputs": [],
   "source": [
    "plt.scatter(data=df, x='num_var1', y='num_var2', s='num_var3')\n",
    "\n",
    "# dummy series for adding legend\n",
    "sizes = [20, 35, 50]\n",
    "base_color = sb.color_palette()[0]\n",
    "legend_obj = []\n",
    "for s in sizes:\n",
    "    legend_obj.append(plt.scatter([], [], s=s, color=base_color))\n",
    "plt.legend(legend_obj, sizes)\n"
   ]
  },
  {
   "cell_type": "markdown",
   "metadata": {},
   "source": [
    "While the creation of the plot is easier with size, we need to put in extra leg work to create a legend. Since, as noted above, `legend` will only create one legend entry per plot function call, we need to create additional dummy `scatter` objects with reference sizes to create the plot. The color is fixed so that all of the legend entries have the same color, and two arguments are provided to the `legend` function: the list of plotting objects to depict in the legend, and their labels.\n",
    "\n",
    "<img src=\"assets/encodings2.png\" width=500px>\n",
    "\n",
    "The size encoding for the third numeric variable (\"num_var3\") shows that its values are largest in the 'middle' of the distribution of values, and smaller on the upper and bottom edges. It is also clear that size is much less precise an encoding than position, so it is better used to make general, qualitative judgments than precise judgments.\n",
    "\n",
    "In the case of the example, the data was also scaled in a way that the marker sizes made sense as given. You might need to apply a scaling factor (e.g., multiplying or dividing all values by 2) or shift in order to make the size encoding interpretable. In particular, if the values in your third numeric variable include negative values, then you might want to choose a color encoding instead.\n",
    "\n",
    "### A Warning on Combining Encodings\n",
    "\n",
    "It might seem plausible to combine both size and shape encodings into the same plot, to depict the trend in four variables at once. Technically, this may be true, but there are some cautions to be taken with this approach. One surface issue is that the code to depict the plot and a reasonable legend gets complicated. A more important issue is that point areas won't all be the same even with the same value, depending on the shape of the marker:"
   ]
  },
  {
   "cell_type": "code",
   "execution_count": null,
   "metadata": {},
   "outputs": [],
   "source": [
    "plt.figure(figsize=[5, 5])\n",
    "\n",
    "common_size = 2500\n",
    "plt.scatter([0], [1], marker='s', s=common_size)\n",
    "plt.scatter([1], [1], marker='^', s=common_size)\n",
    "plt.scatter([0], [0], marker='o', s=common_size)\n",
    "plt.scatter([1], [0], marker='X', s=common_size)\n",
    "\n",
    "# a little bit of aesthetic cleaning\n",
    "plt.xlim(-0.5, 1.5)\n",
    "plt.xticks([])\n",
    "plt.ylim(-0.5, 1.5)\n",
    "plt.yticks([])\n"
   ]
  },
  {
   "cell_type": "markdown",
   "metadata": {},
   "source": [
    "<img src=\"assets/encodings3.png\" width=400px>\n",
    "\n",
    "Despite having the same \"s\" values, the triangle, circle, and X markers all look smaller (have a smaller area) than the square. Perhaps this isn't a major concern, considering that size is better used as a qualitative measure for exploration. But it's still something to consider. A little more discussion of the number of variables that can be reasonably packed into a plot can be found later in the lesson (\"How much is too much?\").\n",
    "\n",
    "**Further Reading**\n",
    "\n",
    "Bloomberg: [Tracking Super Bowl Ticket Prices](https://www.bloomberg.com/graphics/infographics/tracking-super-bowl-ticket-prices.html) - This visualization shows an interesting encoding for a third variable: connecting points by a line to show the changes in the two axis values across time. A different marker at each end of the path shows the starting point and the end point."
   ]
  }
 ],
 "metadata": {
  "interpreter": {
   "hash": "6774c6a91b27222b28f0eacad095cd7a3b945a37b2c1d9ccdc3307e935b7aa2f"
  },
  "kernelspec": {
   "display_name": "Python 3.8.12 ('base')",
   "language": "python",
   "name": "python3"
  },
  "language_info": {
   "name": "python",
   "version": "3.8.12"
  },
  "orig_nbformat": 4
 },
 "nbformat": 4,
 "nbformat_minor": 2
}
